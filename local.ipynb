{
 "cells": [
  {
   "cell_type": "code",
   "execution_count": 21,
   "id": "4b4ea339-b3d6-4152-ad38-65a001ff2dc9",
   "metadata": {},
   "outputs": [],
   "source": [
    "import numpy as np"
   ]
  },
  {
   "cell_type": "code",
   "execution_count": 55,
   "id": "719584ce-8088-4e82-9f6f-1c8ae9b266ac",
   "metadata": {},
   "outputs": [],
   "source": [
    "A = np.array([\n",
    "    [0, 0, 0, 0, 0, 0, 0, 0, 0, 0, 0],  \n",
    "    [0, 0, 1, 0, 0, 0, 0, 0, 0, 0, 0],  \n",
    "    [0, 1, 0, 0, 0, 0, 0, 0, 0, 0, 0], \n",
    "    [1, 1, 0, 0, 0, 0, 0, 0, 0, 0, 0],  \n",
    "    [0, 1, 0, 1, 0, 1, 0, 0, 0, 0, 0], \n",
    "    [0, 1, 0, 0, 1, 0, 0, 0, 0, 0, 0],  \n",
    "    [0, 1, 0, 0, 1, 0, 0, 0, 0, 0, 0], \n",
    "    [0, 1, 0, 0, 1, 0, 0, 0, 0, 0, 0],  \n",
    "    [0, 1, 0, 0, 1, 0, 0, 0, 0, 0, 0],\n",
    "    [0, 0, 0, 0, 1, 0, 0, 0, 0, 0, 0], \n",
    "    [0, 0, 0, 0, 1, 0, 0, 0, 0, 0, 0],\n",
    "])"
   ]
  },
  {
   "cell_type": "code",
   "execution_count": 114,
   "id": "4c4329e8-8c59-4543-9748-fcc8946aea86",
   "metadata": {},
   "outputs": [],
   "source": [
    "def adjacency_pageRanke(A,alpha=0.83,eps=1e-6) :\n",
    "    num_link_of_page  = np.sum(A,axis=1)\n",
    "\n",
    "    D = np.zeros(A.shape)\n",
    "    for i , num  in enumerate (num_link_of_page) : \n",
    "        if num == 0  :\n",
    "            D[i] = 1/A.shape[0]\n",
    "        else : \n",
    "            D[i] = (1-alpha) /A.shape[0]\n",
    "\n",
    "    M= np.where(num_link_of_page[:, np.newaxis] == 0, \n",
    "             0, \n",
    "             A * alpha / num_link_of_page[:, np.newaxis])\n",
    "    \n",
    "    P =M+D\n",
    "    R = np.ones(A.shape[0])/A.shape[0]\n",
    "\n",
    "    l=0\n",
    "    R1 = np.dot(R,P)\n",
    "    norme = np.sum(np.abs(R - R1))\n",
    "    while norme >=  eps :\n",
    "        R = R1\n",
    "        R1 = np.dot(R,P)\n",
    "        norme = np.sum(np.abs(R - R1))\n",
    "        l=l+1\n",
    "\n",
    "\n",
    "    return np.round(R1 *100,2) ,l\n"
   ]
  },
  {
   "cell_type": "code",
   "execution_count": 115,
   "id": "26ca9a29-375b-4ce5-80a0-f0b1f7d1aa04",
   "metadata": {},
   "outputs": [
    {
     "name": "stderr",
     "output_type": "stream",
     "text": [
      "C:\\Users\\Zakroum Hicham\\AppData\\Local\\Temp\\ipykernel_3664\\550085552.py:13: RuntimeWarning: invalid value encountered in divide\n",
      "  A * alpha / num_link_of_page[:, np.newaxis])\n"
     ]
    }
   ],
   "source": [
    "rank,l  = adjacency_pageRanke(A,0.85,1e-6 ) "
   ]
  },
  {
   "cell_type": "code",
   "execution_count": 116,
   "id": "2a484f0f",
   "metadata": {},
   "outputs": [
    {
     "data": {
      "text/plain": [
       "array([ 3.28, 38.44, 34.29,  3.91,  8.09,  3.91,  1.62,  1.62,  1.62,\n",
       "        1.62,  1.62])"
      ]
     },
     "execution_count": 116,
     "metadata": {},
     "output_type": "execute_result"
    }
   ],
   "source": [
    "rank"
   ]
  },
  {
   "cell_type": "code",
   "execution_count": 105,
   "id": "0e4b692c-2603-4711-a413-71e59979a565",
   "metadata": {},
   "outputs": [
    {
     "data": {
      "text/plain": [
       "80"
      ]
     },
     "execution_count": 105,
     "metadata": {},
     "output_type": "execute_result"
    }
   ],
   "source": [
    "l\n",
    "    \n"
   ]
  },
  {
   "cell_type": "code",
   "execution_count": 120,
   "id": "20066a94",
   "metadata": {},
   "outputs": [],
   "source": [
    "edges = {\n",
    "    'A': [],\n",
    "    'B': ['C'],\n",
    "    'C': ['B'],\n",
    "    'D': ['A', 'B'],\n",
    "    'E': ['B', 'D', 'F'],\n",
    "    'F': ['B', 'E'],\n",
    "    'G': ['B', 'E'],\n",
    "    'H': ['B', 'E'],\n",
    "    'I': ['E','B'],\n",
    "    'L': ['E'],\n",
    "    'M': ['E']\n",
    "}\n",
    "nodes = ['A', 'B', 'C', 'D', 'E', 'F', 'G', 'H', 'I', 'L', 'M']"
   ]
  },
  {
   "cell_type": "code",
   "execution_count": 121,
   "id": "7a91b07f-6f67-4311-b91f-d82f9a914325",
   "metadata": {},
   "outputs": [],
   "source": [
    "def graph_pagerank(nodes,edges):\n",
    "   n = len(nodes)\n",
    "\n",
    "   adjacency_matrix = np.zeros((n, n))\n",
    "\n",
    "   for node, outgoing_edges in edges.items():\n",
    "       for edge in outgoing_edges:\n",
    "           adjacency_matrix[nodes.index(edge), nodes.index(node)] = 1\n",
    "           \n",
    "   rank,l= adjacency_pageRanke(adjacency_matrix.T,0.85,10 ** -6 ) \n",
    "\n",
    "   return  rank,l"
   ]
  },
  {
   "cell_type": "code",
   "execution_count": 122,
   "id": "a95a1903-fc91-45b8-b280-194726003f9f",
   "metadata": {},
   "outputs": [
    {
     "name": "stderr",
     "output_type": "stream",
     "text": [
      "C:\\Users\\Zakroum Hicham\\AppData\\Local\\Temp\\ipykernel_3664\\550085552.py:13: RuntimeWarning: invalid value encountered in divide\n",
      "  A * alpha / num_link_of_page[:, np.newaxis])\n"
     ]
    }
   ],
   "source": [
    "rank,l= graph_pagerank(nodes,edges)"
   ]
  },
  {
   "cell_type": "code",
   "execution_count": 123,
   "id": "29961b1a-33f7-4d86-803a-3ae850766b63",
   "metadata": {},
   "outputs": [
    {
     "data": {
      "text/plain": [
       "array([ 3.28, 38.44, 34.29,  3.91,  8.09,  3.91,  1.62,  1.62,  1.62,\n",
       "        1.62,  1.62])"
      ]
     },
     "execution_count": 123,
     "metadata": {},
     "output_type": "execute_result"
    }
   ],
   "source": [
    "rank"
   ]
  },
  {
   "cell_type": "code",
   "execution_count": 124,
   "id": "f1e404b5-9629-4245-8f11-246aaea6ef66",
   "metadata": {},
   "outputs": [
    {
     "data": {
      "text/plain": [
       "80"
      ]
     },
     "execution_count": 124,
     "metadata": {},
     "output_type": "execute_result"
    }
   ],
   "source": [
    "l"
   ]
  },
  {
   "cell_type": "code",
   "execution_count": 128,
   "id": "c3d79191-dc9c-410b-b84d-d07c21fcf935",
   "metadata": {},
   "outputs": [
    {
     "name": "stderr",
     "output_type": "stream",
     "text": [
      "C:\\Users\\Zakroum Hicham\\AppData\\Local\\Temp\\ipykernel_3664\\550085552.py:13: RuntimeWarning: invalid value encountered in divide\n",
      "  A * alpha / num_link_of_page[:, np.newaxis])\n"
     ]
    }
   ],
   "source": [
    "import xmltodict\n",
    "\n",
    "\n",
    "def xml_pageRank(file_name):\n",
    "\n",
    "\n",
    "    with open(file_name,\"rb\") as xml:\n",
    "        data = xmltodict.parse(xml)\n",
    "\n",
    "    # Extract the nodes and edges\n",
    "    nodes = [node['@id'] for node in data['graph']['nodes']['node']]\n",
    "\n",
    "\n",
    "    edges = {node: [] for node in nodes}\n",
    "    for edge in data['graph']['edges']['edge']:\n",
    "        source = edge['@source']\n",
    "        target = edge['@target']\n",
    "        edges[source].append(target)\n",
    "    \n",
    "    return graph_pagerank(nodes,edges)\n",
    "\n",
    "rank, l = xml_pageRank(\"test.xml\")"
   ]
  },
  {
   "cell_type": "code",
   "execution_count": 129,
   "id": "b4b27702",
   "metadata": {},
   "outputs": [
    {
     "data": {
      "text/plain": [
       "array([ 3.28, 38.44, 34.29,  3.91,  8.09,  3.91,  1.62,  1.62,  1.62,\n",
       "        1.62,  1.62])"
      ]
     },
     "execution_count": 129,
     "metadata": {},
     "output_type": "execute_result"
    }
   ],
   "source": [
    "rank"
   ]
  },
  {
   "cell_type": "code",
   "execution_count": 167,
   "id": "83099911",
   "metadata": {},
   "outputs": [
    {
     "name": "stdout",
     "output_type": "stream",
     "text": [
      "B 0.38439863456604384\n",
      "C 0.3429125997558898\n",
      "D 0.039087092099966095\n",
      "A 0.03278149315934399\n",
      "E 0.08088569323449774\n",
      "F 0.039087092099966095\n",
      "G 0.016169479016858404\n",
      "H 0.016169479016858404\n",
      "I 0.016169479016858404\n",
      "L 0.016169479016858404\n",
      "M 0.016169479016858404\n",
      "[3.28, 38.44, 34.29, 3.91, 8.09, 3.91, 1.62, 1.62, 1.62, 1.62, 1.62]\n"
     ]
    }
   ],
   "source": [
    "import networkx as nx\n",
    "# Create a directed graph from the links\n",
    "G = nx.DiGraph()\n",
    "\n",
    "# Add edges to the graph\n",
    "for source, targets in edges.items():\n",
    "    for target in targets:\n",
    "        G.add_edge(source, target)\n",
    "\n",
    "# Calculate PageRank\n",
    "pagerank = nx.pagerank(G)\n",
    "for i,j in pagerank.items():\n",
    "    print(i,j)\n",
    "# Add PageRank values to each node as an attribute\n",
    "for node in G.nodes():\n",
    "    G.nodes[node]['pagerank'] = round(pagerank[node]*100,2)\n",
    "# Print PageRank values\n",
    "print([round(pagerank[i]*100,2) for i in sorted(pagerank)])\n"
   ]
  },
  {
   "cell_type": "code",
   "execution_count": 138,
   "id": "9cf82f26",
   "metadata": {},
   "outputs": [],
   "source": [
    "from pyvis.network import Network"
   ]
  },
  {
   "cell_type": "code",
   "execution_count": 164,
   "id": "f3f3b3aa",
   "metadata": {},
   "outputs": [],
   "source": [
    "nt = Network(height=\"100vh\", width=\"100%\", directed=True,select_menu=True)\n",
    "# Add nodes and edges to the Pyvis network\n",
    "for node in G.nodes():\n",
    "    # Add the node with PageRank value as a title\n",
    "    nt.add_node(node, label=f\"{node}\\n{round(pagerank[node] * 100, 2)}%\", value=pagerank[node])\n",
    "\n",
    "for source, target in G.edges():\n",
    "    nt.add_edge(source, target)\n",
    "\n",
    "# Customize the layout\n",
    "nt.force_atlas_2based(central_gravity=0.015, gravity=-40)\n",
    "# nt.show_buttons(filter_=['physics'])\n",
    "nt.write_html(\"graph.html\")"
   ]
  }
 ],
 "metadata": {
  "kernelspec": {
   "display_name": "computer_vision",
   "language": "python",
   "name": "python3"
  },
  "language_info": {
   "codemirror_mode": {
    "name": "ipython",
    "version": 3
   },
   "file_extension": ".py",
   "mimetype": "text/x-python",
   "name": "python",
   "nbconvert_exporter": "python",
   "pygments_lexer": "ipython3",
   "version": "3.12.4"
  }
 },
 "nbformat": 4,
 "nbformat_minor": 5
}
